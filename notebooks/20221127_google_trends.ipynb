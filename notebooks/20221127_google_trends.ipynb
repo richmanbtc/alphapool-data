{
 "cells": [
  {
   "cell_type": "code",
   "execution_count": 8,
   "id": "3d4b31e0-f7ea-4425-8978-07a13066b02b",
   "metadata": {},
   "outputs": [],
   "source": [
    "import sys\n",
    "sys.path.append('..') # for import src\n",
    "\n",
    "import os\n",
    "import cloudpickle\n",
    "import lzma\n",
    "import pandas as pd\n",
    "import numpy as np\n",
    "from scipy.stats import pearsonr\n",
    "import matplotlib.pyplot as plt\n",
    "import ccxt\n",
    "\n",
    "import src\n",
    "cloudpickle.register_pickle_by_value(src) # for model portability"
   ]
  },
  {
   "cell_type": "code",
   "execution_count": 11,
   "id": "62febdb6-70d7-4635-9974-48f914d51193",
   "metadata": {},
   "outputs": [],
   "source": [
    "\n",
    "from pytrends.request import TrendReq\n",
    "\n",
    "class Fetcher:\n",
    "    def __init__(self, keyword=None, geo=''):\n",
    "        self.keyword = keyword\n",
    "        self.geo = geo\n",
    "        self.keys = {\n",
    "            'keyword': keyword,\n",
    "            'geo': geo,\n",
    "        }\n",
    "        self.data_id = 'google_trends'\n",
    "        \n",
    "    def fetch(self, last_timestamp=None):\n",
    "        pytrend = TrendReq(hl='en', tz=0, retries=3, backoff_factor=0.1)\n",
    "        \n",
    "        if last_timestamp is None:\n",
    "            end_time = pd.to_datetime('2013-10-06 21:00:00Z', utc=True)\n",
    "        else:\n",
    "            end_time = pd.to_datetime(last_timestamp + 60 * 60, unit='s', utc=True)\n",
    "        start_time = end_time - pd.to_timedelta(24 * 7, unit='hour')\n",
    "\n",
    "        timeframe = '{} {}'.format(\n",
    "            start_time.strftime('%Y-%m-%dT%H'),\n",
    "            end_time.strftime('%Y-%m-%dT%H'),\n",
    "        )\n",
    "        # timeframe='2020-01-01T00 2020-01-03T00'\n",
    "        \n",
    "        pytrend.build_payload(kw_list=[self.keyword], timeframe=timeframe, geo=self.geo)\n",
    "        df = pytrend.interest_over_time()\n",
    "        # display(df)\n",
    "        \n",
    "        df = df.reset_index()\n",
    "        df = df.rename(columns={ 'date': 'timestamp', self.keyword: 'value' })\n",
    "        df['timestamp'] = df['timestamp'].astype('int') // 10 ** 9\n",
    "\n",
    "        df = df.loc[~df['isPartial']]\n",
    "        df = df.iloc[-1:]\n",
    "        df = df.set_index('timestamp')\n",
    "        df = df[['value']].astype('float')\n",
    "        \n",
    "        return df\n"
   ]
  },
  {
   "cell_type": "code",
   "execution_count": 12,
   "id": "af5dd0cc-0dab-45e2-bf43-3ace6954f6a1",
   "metadata": {},
   "outputs": [
    {
     "data": {
      "text/html": [
       "<div>\n",
       "<style scoped>\n",
       "    .dataframe tbody tr th:only-of-type {\n",
       "        vertical-align: middle;\n",
       "    }\n",
       "\n",
       "    .dataframe tbody tr th {\n",
       "        vertical-align: top;\n",
       "    }\n",
       "\n",
       "    .dataframe thead th {\n",
       "        text-align: right;\n",
       "    }\n",
       "</style>\n",
       "<table border=\"1\" class=\"dataframe\">\n",
       "  <thead>\n",
       "    <tr style=\"text-align: right;\">\n",
       "      <th></th>\n",
       "      <th>value</th>\n",
       "    </tr>\n",
       "    <tr>\n",
       "      <th>timestamp</th>\n",
       "      <th></th>\n",
       "    </tr>\n",
       "  </thead>\n",
       "  <tbody>\n",
       "    <tr>\n",
       "      <th>1381093200</th>\n",
       "      <td>0</td>\n",
       "    </tr>\n",
       "  </tbody>\n",
       "</table>\n",
       "</div>"
      ],
      "text/plain": [
       "            value\n",
       "timestamp        \n",
       "1381093200      0"
      ]
     },
     "metadata": {},
     "output_type": "display_data"
    },
    {
     "data": {
      "text/html": [
       "<div>\n",
       "<style scoped>\n",
       "    .dataframe tbody tr th:only-of-type {\n",
       "        vertical-align: middle;\n",
       "    }\n",
       "\n",
       "    .dataframe tbody tr th {\n",
       "        vertical-align: top;\n",
       "    }\n",
       "\n",
       "    .dataframe thead th {\n",
       "        text-align: right;\n",
       "    }\n",
       "</style>\n",
       "<table border=\"1\" class=\"dataframe\">\n",
       "  <thead>\n",
       "    <tr style=\"text-align: right;\">\n",
       "      <th></th>\n",
       "      <th>value</th>\n",
       "    </tr>\n",
       "    <tr>\n",
       "      <th>timestamp</th>\n",
       "      <th></th>\n",
       "    </tr>\n",
       "  </thead>\n",
       "  <tbody>\n",
       "    <tr>\n",
       "      <th>1600002000</th>\n",
       "      <td>61</td>\n",
       "    </tr>\n",
       "  </tbody>\n",
       "</table>\n",
       "</div>"
      ],
      "text/plain": [
       "            value\n",
       "timestamp        \n",
       "1600002000     61"
      ]
     },
     "metadata": {},
     "output_type": "display_data"
    }
   ],
   "source": [
    "fetcher = Fetcher(keyword='btc')\n",
    "df = fetcher.fetch(last_timestamp=None)\n",
    "display(df)\n",
    "df = fetcher.fetch(last_timestamp=(1600000000 // 3600) * 3600)\n",
    "display(df)"
   ]
  },
  {
   "cell_type": "code",
   "execution_count": 13,
   "id": "a05a8d1d-e9a3-4aa1-80f6-dd7757c91c79",
   "metadata": {},
   "outputs": [],
   "source": [
    "symbols = 'BTC,ETH,XRP,LINK,ATOM,DOT,SOL,BNB,MATIC,ADA'.split(',')\n",
    "symbols += ['ALGO', 'AVAX', 'BCH', 'APT']\n",
    "symbols += 'DOGE,SFP,DYDX,AXS,CHZ,TRX,MASK,ETC,LTC,1000SHIB,C98,SAND,SUSHI,NEAR,FIL'.split(',')\n",
    "fetchers = []\n",
    "\n",
    "for symbol in symbols:\n",
    "    fetchers.append(Fetcher(keyword=symbol.lower()))\n",
    "    \n",
    "data = cloudpickle.dumps(fetchers)\n",
    "data = lzma.compress(data)\n",
    "with open('/home/jovyan/data/20221127_google_trends.xz', 'wb') as f:\n",
    "    f.write(data)"
   ]
  },
  {
   "cell_type": "code",
   "execution_count": null,
   "id": "439ff577-3f7a-4f33-8a2b-e466956de4dc",
   "metadata": {},
   "outputs": [],
   "source": []
  }
 ],
 "metadata": {
  "kernelspec": {
   "display_name": "Python 3 (ipykernel)",
   "language": "python",
   "name": "python3"
  },
  "language_info": {
   "codemirror_mode": {
    "name": "ipython",
    "version": 3
   },
   "file_extension": ".py",
   "mimetype": "text/x-python",
   "name": "python",
   "nbconvert_exporter": "python",
   "pygments_lexer": "ipython3",
   "version": "3.10.6"
  }
 },
 "nbformat": 4,
 "nbformat_minor": 5
}
